{
  "cells": [
    {
      "cell_type": "code",
      "execution_count": null,
      "metadata": {
        "id": "yzsBVxn7vZeK"
      },
      "outputs": [],
      "source": [
        "import os\n",
        "import numpy as np\n",
        "import pandas as pd\n",
        "from surprise import Reader, Dataset\n",
        "from surprise.model_selection import train_test_split, GridSearchCV\n",
        "from surprise import KNNBasic, accuracy, dump\n",
        "import random\n",
        "\n",
        "from sklearn import preprocessing\n",
        "from sklearn.metrics import mean_squared_error\n",
        "from sklearn.neighbors import NearestNeighbors\n",
        "\n",
        "import matplotlib.pyplot as plt\n",
        "import sklearn\n",
        "\n",
        "import seaborn as sns\n",
        "from scipy.stats import skew\n",
        "#Para garantizar reproducibilidad en resultados\n",
        "seed = 10\n",
        "random.seed(seed)\n",
        "np.random.seed(seed)\n"
      ]
    },
    {
      "cell_type": "code",
      "execution_count": null,
      "metadata": {
        "id": "qXBa9f6evgbO"
      },
      "outputs": [],
      "source": [
        "path1 = '/content/drive/MyDrive/lastfm-dataset-1K/df_ratings.csv'"
      ]
    },
    {
      "cell_type": "code",
      "execution_count": null,
      "metadata": {
        "id": "0mG5QpcFvgdi"
      },
      "outputs": [],
      "source": [
        "df_ratings = pd.read_csv(path1)\n",
        "df_ratings"
      ]
    },
    {
      "cell_type": "code",
      "execution_count": null,
      "metadata": {
        "id": "7g6g3FuDvgif"
      },
      "outputs": [],
      "source": [
        "reader = Reader( rating_scale = ( 1, 5 ) )\n",
        "\n",
        "# Creación de dataset usando surprise\n",
        "surprise_dataset = Dataset.load_from_df( df_ratings[ [ 'user_id', 'artist_id', 'rounded_scaled_rating' ] ], reader )"
      ]
    },
    {
      "cell_type": "code",
      "execution_count": null,
      "metadata": {
        "id": "2gOortY1vgk2"
      },
      "outputs": [],
      "source": [
        "# Creación de los conjuntos de entrenamiento y prueba\n",
        "train_set, test_set=  train_test_split(surprise_dataset, test_size=.7)"
      ]
    },
    {
      "cell_type": "code",
      "execution_count": null,
      "metadata": {
        "id": "fw8Ko5UNvgm6"
      },
      "outputs": [],
      "source": [
        "# se crea un modelo knnbasic item-item con similitud coseno\n",
        "sim_options = {\n",
        "    'name': 'cosine',\n",
        "    'user_based': False,\n",
        "}\n",
        "\n",
        "algo = KNNBasic(k=20, min_k=5, sim_options=sim_options)"
      ]
    },
    {
      "cell_type": "code",
      "execution_count": null,
      "metadata": {
        "id": "ViiS7dw_vgo8"
      },
      "outputs": [],
      "source": [
        "#Se le pasa la matriz de utilidad al algoritmo\n",
        "algo.fit(trainset=train_set)"
      ]
    },
    {
      "cell_type": "code",
      "execution_count": null,
      "metadata": {
        "id": "8pKpiKCqvgrR"
      },
      "outputs": [],
      "source": []
    },
    {
      "cell_type": "code",
      "execution_count": null,
      "metadata": {
        "id": "jQb1_rrQvgtx"
      },
      "outputs": [],
      "source": []
    }
  ],
  "metadata": {
    "accelerator": "GPU",
    "colab": {
      "private_outputs": true,
      "provenance": []
    },
    "gpuClass": "standard",
    "kernelspec": {
      "display_name": "Python 3",
      "name": "python3"
    },
    "language_info": {
      "name": "python"
    }
  },
  "nbformat": 4,
  "nbformat_minor": 0
}
