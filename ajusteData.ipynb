{
 "cells": [
  {
   "cell_type": "code",
   "execution_count": 8,
   "id": "cc5b8670-00d3-418a-a297-2c7f8de28446",
   "metadata": {},
   "outputs": [
    {
     "name": "stdout",
     "output_type": "stream",
     "text": [
      "Collecting ydata-profiling\n",
      "  Using cached ydata_profiling-4.0.0-py2.py3-none-any.whl (344 kB)\n",
      "Requirement already satisfied: numpy<1.24,>=1.16.0 in c:\\users\\julian\\anaconda3\\envs\\machinelearning\\lib\\site-packages (from ydata-profiling) (1.23.5)\n",
      "Requirement already satisfied: multimethod<1.10,>=1.4 in c:\\users\\julian\\anaconda3\\envs\\machinelearning\\lib\\site-packages (from ydata-profiling) (1.5)\n",
      "Requirement already satisfied: jinja2<3.2,>=2.11.1 in c:\\users\\julian\\anaconda3\\envs\\machinelearning\\lib\\site-packages (from ydata-profiling) (3.1.2)\n",
      "Requirement already satisfied: visions[type_image_path]==0.7.5 in c:\\users\\julian\\anaconda3\\envs\\machinelearning\\lib\\site-packages (from ydata-profiling) (0.7.5)\n",
      "Requirement already satisfied: scipy<1.10,>=1.4.1 in c:\\users\\julian\\anaconda3\\envs\\machinelearning\\lib\\site-packages (from ydata-profiling) (1.9.3)\n",
      "Requirement already satisfied: PyYAML<6.1,>=5.0.0 in c:\\users\\julian\\anaconda3\\envs\\machinelearning\\lib\\site-packages (from ydata-profiling) (6.0)\n",
      "Requirement already satisfied: pandas!=1.4.0,<1.6,>1.1 in c:\\users\\julian\\anaconda3\\envs\\machinelearning\\lib\\site-packages (from ydata-profiling) (1.5.2)\n",
      "Requirement already satisfied: tqdm<4.65,>=4.48.2 in c:\\users\\julian\\anaconda3\\envs\\machinelearning\\lib\\site-packages (from ydata-profiling) (4.64.1)\n",
      "Requirement already satisfied: pydantic<1.11,>=1.8.1 in c:\\users\\julian\\anaconda3\\envs\\machinelearning\\lib\\site-packages (from ydata-profiling) (1.10.2)\n",
      "Requirement already satisfied: matplotlib<3.7,>=3.2 in c:\\users\\julian\\anaconda3\\envs\\machinelearning\\lib\\site-packages (from ydata-profiling) (3.6.2)\n",
      "Requirement already satisfied: statsmodels<0.14,>=0.13.2 in c:\\users\\julian\\anaconda3\\envs\\machinelearning\\lib\\site-packages (from ydata-profiling) (0.13.5)\n",
      "Requirement already satisfied: typeguard<2.14,>=2.13.2 in c:\\users\\julian\\anaconda3\\envs\\machinelearning\\lib\\site-packages (from ydata-profiling) (2.13.3)\n",
      "Requirement already satisfied: requests<2.29,>=2.24.0 in c:\\users\\julian\\anaconda3\\envs\\machinelearning\\lib\\site-packages (from ydata-profiling) (2.28.1)\n",
      "Requirement already satisfied: phik<0.13,>=0.11.1 in c:\\users\\julian\\anaconda3\\envs\\machinelearning\\lib\\site-packages (from ydata-profiling) (0.12.3)\n",
      "Requirement already satisfied: seaborn<0.13,>=0.10.1 in c:\\users\\julian\\anaconda3\\envs\\machinelearning\\lib\\site-packages (from ydata-profiling) (0.12.2)\n",
      "Requirement already satisfied: htmlmin==0.1.12 in c:\\users\\julian\\anaconda3\\envs\\machinelearning\\lib\\site-packages (from ydata-profiling) (0.1.12)\n",
      "Requirement already satisfied: networkx>=2.4 in c:\\users\\julian\\anaconda3\\envs\\machinelearning\\lib\\site-packages (from visions[type_image_path]==0.7.5->ydata-profiling) (2.8.4)\n",
      "Requirement already satisfied: tangled-up-in-unicode>=0.0.4 in c:\\users\\julian\\anaconda3\\envs\\machinelearning\\lib\\site-packages (from visions[type_image_path]==0.7.5->ydata-profiling) (0.2.0)\n",
      "Requirement already satisfied: attrs>=19.3.0 in c:\\users\\julian\\anaconda3\\envs\\machinelearning\\lib\\site-packages (from visions[type_image_path]==0.7.5->ydata-profiling) (22.1.0)\n",
      "Requirement already satisfied: Pillow in c:\\users\\julian\\anaconda3\\envs\\machinelearning\\lib\\site-packages (from visions[type_image_path]==0.7.5->ydata-profiling) (9.3.0)\n",
      "Requirement already satisfied: imagehash in c:\\users\\julian\\anaconda3\\envs\\machinelearning\\lib\\site-packages (from visions[type_image_path]==0.7.5->ydata-profiling) (4.2.1)\n",
      "Requirement already satisfied: MarkupSafe>=2.0 in c:\\users\\julian\\anaconda3\\envs\\machinelearning\\lib\\site-packages (from jinja2<3.2,>=2.11.1->ydata-profiling) (2.1.1)\n",
      "Requirement already satisfied: fonttools>=4.22.0 in c:\\users\\julian\\anaconda3\\envs\\machinelearning\\lib\\site-packages (from matplotlib<3.7,>=3.2->ydata-profiling) (4.25.0)\n",
      "Requirement already satisfied: cycler>=0.10 in c:\\users\\julian\\anaconda3\\envs\\machinelearning\\lib\\site-packages (from matplotlib<3.7,>=3.2->ydata-profiling) (0.11.0)\n",
      "Requirement already satisfied: contourpy>=1.0.1 in c:\\users\\julian\\anaconda3\\envs\\machinelearning\\lib\\site-packages (from matplotlib<3.7,>=3.2->ydata-profiling) (1.0.5)\n",
      "Requirement already satisfied: python-dateutil>=2.7 in c:\\users\\julian\\anaconda3\\envs\\machinelearning\\lib\\site-packages (from matplotlib<3.7,>=3.2->ydata-profiling) (2.8.2)\n",
      "Requirement already satisfied: kiwisolver>=1.0.1 in c:\\users\\julian\\anaconda3\\envs\\machinelearning\\lib\\site-packages (from matplotlib<3.7,>=3.2->ydata-profiling) (1.4.4)\n",
      "Requirement already satisfied: pyparsing>=2.2.1 in c:\\users\\julian\\anaconda3\\envs\\machinelearning\\lib\\site-packages (from matplotlib<3.7,>=3.2->ydata-profiling) (3.0.9)\n",
      "Requirement already satisfied: packaging>=20.0 in c:\\users\\julian\\anaconda3\\envs\\machinelearning\\lib\\site-packages (from matplotlib<3.7,>=3.2->ydata-profiling) (22.0)\n",
      "Requirement already satisfied: pytz>=2020.1 in c:\\users\\julian\\anaconda3\\envs\\machinelearning\\lib\\site-packages (from pandas!=1.4.0,<1.6,>1.1->ydata-profiling) (2022.7)\n",
      "Requirement already satisfied: joblib>=0.14.1 in c:\\users\\julian\\anaconda3\\envs\\machinelearning\\lib\\site-packages (from phik<0.13,>=0.11.1->ydata-profiling) (1.1.1)\n",
      "Requirement already satisfied: typing-extensions>=4.1.0 in c:\\users\\julian\\anaconda3\\envs\\machinelearning\\lib\\site-packages (from pydantic<1.11,>=1.8.1->ydata-profiling) (4.4.0)\n",
      "Requirement already satisfied: certifi>=2017.4.17 in c:\\users\\julian\\anaconda3\\envs\\machinelearning\\lib\\site-packages (from requests<2.29,>=2.24.0->ydata-profiling) (2022.12.7)\n",
      "Requirement already satisfied: charset-normalizer<3,>=2 in c:\\users\\julian\\anaconda3\\envs\\machinelearning\\lib\\site-packages (from requests<2.29,>=2.24.0->ydata-profiling) (2.0.4)\n",
      "Requirement already satisfied: idna<4,>=2.5 in c:\\users\\julian\\anaconda3\\envs\\machinelearning\\lib\\site-packages (from requests<2.29,>=2.24.0->ydata-profiling) (3.4)\n",
      "Requirement already satisfied: urllib3<1.27,>=1.21.1 in c:\\users\\julian\\anaconda3\\envs\\machinelearning\\lib\\site-packages (from requests<2.29,>=2.24.0->ydata-profiling) (1.26.14)\n",
      "Requirement already satisfied: patsy>=0.5.2 in c:\\users\\julian\\anaconda3\\envs\\machinelearning\\lib\\site-packages (from statsmodels<0.14,>=0.13.2->ydata-profiling) (0.5.3)\n",
      "Requirement already satisfied: colorama in c:\\users\\julian\\anaconda3\\envs\\machinelearning\\lib\\site-packages (from tqdm<4.65,>=4.48.2->ydata-profiling) (0.4.6)\n",
      "Requirement already satisfied: six in c:\\users\\julian\\anaconda3\\envs\\machinelearning\\lib\\site-packages (from patsy>=0.5.2->statsmodels<0.14,>=0.13.2->ydata-profiling) (1.16.0)\n",
      "Requirement already satisfied: PyWavelets in c:\\users\\julian\\anaconda3\\envs\\machinelearning\\lib\\site-packages (from imagehash->visions[type_image_path]==0.7.5->ydata-profiling) (1.4.1)\n",
      "Installing collected packages: ydata-profiling\n",
      "Successfully installed ydata-profiling-4.0.0\n",
      "Note: you may need to restart the kernel to use updated packages.\n"
     ]
    }
   ],
   "source": [
    "pip install ydata-profiling"
   ]
  },
  {
   "cell_type": "code",
   "execution_count": 9,
   "id": "1959dce5-8fe7-4c37-b03d-5d1d777accf7",
   "metadata": {},
   "outputs": [],
   "source": [
    "#Manejo de datos\n",
    "import pandas as pd\n",
    "import numpy as np"
   ]
  },
  {
   "cell_type": "code",
   "execution_count": 10,
   "id": "3986ef92-5484-4572-860f-66a2a708c437",
   "metadata": {},
   "outputs": [],
   "source": [
    "#Analisis profundo de datos\n",
    "from pandas_profiling import ProfileReport"
   ]
  },
  {
   "cell_type": "code",
   "execution_count": 49,
   "id": "63e0c0a4-67fd-47f7-84bf-133b02157407",
   "metadata": {},
   "outputs": [
    {
     "data": {
      "text/html": [
       "<div>\n",
       "<style scoped>\n",
       "    .dataframe tbody tr th:only-of-type {\n",
       "        vertical-align: middle;\n",
       "    }\n",
       "\n",
       "    .dataframe tbody tr th {\n",
       "        vertical-align: top;\n",
       "    }\n",
       "\n",
       "    .dataframe thead th {\n",
       "        text-align: right;\n",
       "    }\n",
       "</style>\n",
       "<table border=\"1\" class=\"dataframe\">\n",
       "  <thead>\n",
       "    <tr style=\"text-align: right;\">\n",
       "      <th></th>\n",
       "      <th>#id</th>\n",
       "      <th>gender</th>\n",
       "      <th>age</th>\n",
       "      <th>country</th>\n",
       "      <th>registered</th>\n",
       "    </tr>\n",
       "  </thead>\n",
       "  <tbody>\n",
       "    <tr>\n",
       "      <th>0</th>\n",
       "      <td>user_000001</td>\n",
       "      <td>m</td>\n",
       "      <td>NaN</td>\n",
       "      <td>Japan</td>\n",
       "      <td>Aug 13, 2006</td>\n",
       "    </tr>\n",
       "    <tr>\n",
       "      <th>1</th>\n",
       "      <td>user_000002</td>\n",
       "      <td>f</td>\n",
       "      <td>NaN</td>\n",
       "      <td>Peru</td>\n",
       "      <td>Feb 24, 2006</td>\n",
       "    </tr>\n",
       "    <tr>\n",
       "      <th>2</th>\n",
       "      <td>user_000003</td>\n",
       "      <td>m</td>\n",
       "      <td>22.0</td>\n",
       "      <td>United States</td>\n",
       "      <td>Oct 30, 2005</td>\n",
       "    </tr>\n",
       "    <tr>\n",
       "      <th>3</th>\n",
       "      <td>user_000004</td>\n",
       "      <td>f</td>\n",
       "      <td>NaN</td>\n",
       "      <td>NaN</td>\n",
       "      <td>Apr 26, 2006</td>\n",
       "    </tr>\n",
       "    <tr>\n",
       "      <th>4</th>\n",
       "      <td>user_000005</td>\n",
       "      <td>m</td>\n",
       "      <td>NaN</td>\n",
       "      <td>Bulgaria</td>\n",
       "      <td>Jun 29, 2006</td>\n",
       "    </tr>\n",
       "    <tr>\n",
       "      <th>...</th>\n",
       "      <td>...</td>\n",
       "      <td>...</td>\n",
       "      <td>...</td>\n",
       "      <td>...</td>\n",
       "      <td>...</td>\n",
       "    </tr>\n",
       "    <tr>\n",
       "      <th>989</th>\n",
       "      <td>user_000998</td>\n",
       "      <td>m</td>\n",
       "      <td>NaN</td>\n",
       "      <td>United Kingdom</td>\n",
       "      <td>Sep 28, 2005</td>\n",
       "    </tr>\n",
       "    <tr>\n",
       "      <th>990</th>\n",
       "      <td>user_000999</td>\n",
       "      <td>f</td>\n",
       "      <td>NaN</td>\n",
       "      <td>Poland</td>\n",
       "      <td>Jul 24, 2007</td>\n",
       "    </tr>\n",
       "    <tr>\n",
       "      <th>991</th>\n",
       "      <td>user_001000</td>\n",
       "      <td>m</td>\n",
       "      <td>NaN</td>\n",
       "      <td>United States</td>\n",
       "      <td>Mar 24, 2007</td>\n",
       "    </tr>\n",
       "    <tr>\n",
       "      <th>992</th>\n",
       "      <td>usuarioJsana</td>\n",
       "      <td>m</td>\n",
       "      <td>34.0</td>\n",
       "      <td>Colombia</td>\n",
       "      <td>Mar 09, 2023</td>\n",
       "    </tr>\n",
       "    <tr>\n",
       "      <th>993</th>\n",
       "      <td>usuarioJulianS</td>\n",
       "      <td>m</td>\n",
       "      <td>33.0</td>\n",
       "      <td>Perú</td>\n",
       "      <td>Mar 09, 2023</td>\n",
       "    </tr>\n",
       "  </tbody>\n",
       "</table>\n",
       "<p>994 rows × 5 columns</p>\n",
       "</div>"
      ],
      "text/plain": [
       "                #id gender   age         country    registered\n",
       "0       user_000001      m   NaN           Japan  Aug 13, 2006\n",
       "1       user_000002      f   NaN            Peru  Feb 24, 2006\n",
       "2       user_000003      m  22.0   United States  Oct 30, 2005\n",
       "3       user_000004      f   NaN             NaN  Apr 26, 2006\n",
       "4       user_000005      m   NaN        Bulgaria  Jun 29, 2006\n",
       "..              ...    ...   ...             ...           ...\n",
       "989     user_000998      m   NaN  United Kingdom  Sep 28, 2005\n",
       "990     user_000999      f   NaN          Poland  Jul 24, 2007\n",
       "991     user_001000      m   NaN   United States  Mar 24, 2007\n",
       "992    usuarioJsana      m  34.0        Colombia  Mar 09, 2023\n",
       "993  usuarioJulianS      m  33.0            Perú  Mar 09, 2023\n",
       "\n",
       "[994 rows x 5 columns]"
      ]
     },
     "execution_count": 49,
     "metadata": {},
     "output_type": "execute_result"
    }
   ],
   "source": [
    "url = './appWeb/static/data/userid-profile.tsv'\n",
    "users = pd.read_csv(url, sep=\"\\t\")\n",
    "users"
   ]
  },
  {
   "cell_type": "code",
   "execution_count": 45,
   "id": "9c62f1f7-9131-4c54-a20f-69f2c81e9649",
   "metadata": {},
   "outputs": [
    {
     "data": {
      "text/plain": [
       "#id            object\n",
       "gender         object\n",
       "age           float64\n",
       "country        object\n",
       "registered     object\n",
       "dtype: object"
      ]
     },
     "execution_count": 45,
     "metadata": {},
     "output_type": "execute_result"
    }
   ],
   "source": [
    "users.dtypes"
   ]
  },
  {
   "cell_type": "code",
   "execution_count": 15,
   "id": "b434f4d8-962c-425b-b580-c2e95c8afc9c",
   "metadata": {},
   "outputs": [
    {
     "data": {
      "text/plain": [
       "#id             0\n",
       "gender        108\n",
       "age           706\n",
       "country        85\n",
       "registered      8\n",
       "dtype: int64"
      ]
     },
     "execution_count": 15,
     "metadata": {},
     "output_type": "execute_result"
    }
   ],
   "source": [
    "# Identificamos el número de missing values en cada columna\n",
    "users.isnull().sum()"
   ]
  },
  {
   "cell_type": "code",
   "execution_count": 18,
   "id": "80c51b69-4330-4562-aef5-b62369b57571",
   "metadata": {},
   "outputs": [],
   "source": [
    "users.loc[len(users.index)] = ['user_JSanabria', 'm', 34, 'Colombia', 'Mar 07, 2023'] "
   ]
  },
  {
   "cell_type": "code",
   "execution_count": 19,
   "id": "a0d8a457-66f9-4ebb-8794-acaa34f3a346",
   "metadata": {},
   "outputs": [
    {
     "data": {
      "text/html": [
       "<div>\n",
       "<style scoped>\n",
       "    .dataframe tbody tr th:only-of-type {\n",
       "        vertical-align: middle;\n",
       "    }\n",
       "\n",
       "    .dataframe tbody tr th {\n",
       "        vertical-align: top;\n",
       "    }\n",
       "\n",
       "    .dataframe thead th {\n",
       "        text-align: right;\n",
       "    }\n",
       "</style>\n",
       "<table border=\"1\" class=\"dataframe\">\n",
       "  <thead>\n",
       "    <tr style=\"text-align: right;\">\n",
       "      <th></th>\n",
       "      <th>#id</th>\n",
       "      <th>gender</th>\n",
       "      <th>age</th>\n",
       "      <th>country</th>\n",
       "      <th>registered</th>\n",
       "    </tr>\n",
       "  </thead>\n",
       "  <tbody>\n",
       "    <tr>\n",
       "      <th>0</th>\n",
       "      <td>user_000001</td>\n",
       "      <td>m</td>\n",
       "      <td>NaN</td>\n",
       "      <td>Japan</td>\n",
       "      <td>Aug 13, 2006</td>\n",
       "    </tr>\n",
       "    <tr>\n",
       "      <th>1</th>\n",
       "      <td>user_000002</td>\n",
       "      <td>f</td>\n",
       "      <td>NaN</td>\n",
       "      <td>Peru</td>\n",
       "      <td>Feb 24, 2006</td>\n",
       "    </tr>\n",
       "    <tr>\n",
       "      <th>2</th>\n",
       "      <td>user_000003</td>\n",
       "      <td>m</td>\n",
       "      <td>22.0</td>\n",
       "      <td>United States</td>\n",
       "      <td>Oct 30, 2005</td>\n",
       "    </tr>\n",
       "    <tr>\n",
       "      <th>3</th>\n",
       "      <td>user_000004</td>\n",
       "      <td>f</td>\n",
       "      <td>NaN</td>\n",
       "      <td>NaN</td>\n",
       "      <td>Apr 26, 2006</td>\n",
       "    </tr>\n",
       "    <tr>\n",
       "      <th>4</th>\n",
       "      <td>user_000005</td>\n",
       "      <td>m</td>\n",
       "      <td>NaN</td>\n",
       "      <td>Bulgaria</td>\n",
       "      <td>Jun 29, 2006</td>\n",
       "    </tr>\n",
       "    <tr>\n",
       "      <th>...</th>\n",
       "      <td>...</td>\n",
       "      <td>...</td>\n",
       "      <td>...</td>\n",
       "      <td>...</td>\n",
       "      <td>...</td>\n",
       "    </tr>\n",
       "    <tr>\n",
       "      <th>988</th>\n",
       "      <td>user_000997</td>\n",
       "      <td>m</td>\n",
       "      <td>NaN</td>\n",
       "      <td>United States</td>\n",
       "      <td>Jan 5, 2007</td>\n",
       "    </tr>\n",
       "    <tr>\n",
       "      <th>989</th>\n",
       "      <td>user_000998</td>\n",
       "      <td>m</td>\n",
       "      <td>NaN</td>\n",
       "      <td>United Kingdom</td>\n",
       "      <td>Sep 28, 2005</td>\n",
       "    </tr>\n",
       "    <tr>\n",
       "      <th>990</th>\n",
       "      <td>user_000999</td>\n",
       "      <td>f</td>\n",
       "      <td>NaN</td>\n",
       "      <td>Poland</td>\n",
       "      <td>Jul 24, 2007</td>\n",
       "    </tr>\n",
       "    <tr>\n",
       "      <th>991</th>\n",
       "      <td>user_001000</td>\n",
       "      <td>m</td>\n",
       "      <td>NaN</td>\n",
       "      <td>United States</td>\n",
       "      <td>Mar 24, 2007</td>\n",
       "    </tr>\n",
       "    <tr>\n",
       "      <th>992</th>\n",
       "      <td>user_JSanabria</td>\n",
       "      <td>m</td>\n",
       "      <td>34.0</td>\n",
       "      <td>Colombia</td>\n",
       "      <td>Mar 07, 2023</td>\n",
       "    </tr>\n",
       "  </tbody>\n",
       "</table>\n",
       "<p>993 rows × 5 columns</p>\n",
       "</div>"
      ],
      "text/plain": [
       "                #id gender   age         country    registered\n",
       "0       user_000001      m   NaN           Japan  Aug 13, 2006\n",
       "1       user_000002      f   NaN            Peru  Feb 24, 2006\n",
       "2       user_000003      m  22.0   United States  Oct 30, 2005\n",
       "3       user_000004      f   NaN             NaN  Apr 26, 2006\n",
       "4       user_000005      m   NaN        Bulgaria  Jun 29, 2006\n",
       "..              ...    ...   ...             ...           ...\n",
       "988     user_000997      m   NaN   United States   Jan 5, 2007\n",
       "989     user_000998      m   NaN  United Kingdom  Sep 28, 2005\n",
       "990     user_000999      f   NaN          Poland  Jul 24, 2007\n",
       "991     user_001000      m   NaN   United States  Mar 24, 2007\n",
       "992  user_JSanabria      m  34.0        Colombia  Mar 07, 2023\n",
       "\n",
       "[993 rows x 5 columns]"
      ]
     },
     "execution_count": 19,
     "metadata": {},
     "output_type": "execute_result"
    }
   ],
   "source": [
    "users"
   ]
  },
  {
   "cell_type": "code",
   "execution_count": 20,
   "id": "9e913a7a-0207-452f-ab55-66799c8efd25",
   "metadata": {},
   "outputs": [],
   "source": [
    "df.to_csv(\"./appWeb/static/data/userid-profile.tsv\", sep=\"\\t\")"
   ]
  },
  {
   "cell_type": "code",
   "execution_count": 27,
   "id": "a33e5894-70cc-47eb-9152-75816724f98e",
   "metadata": {},
   "outputs": [
    {
     "data": {
      "text/html": [
       "<div>\n",
       "<style scoped>\n",
       "    .dataframe tbody tr th:only-of-type {\n",
       "        vertical-align: middle;\n",
       "    }\n",
       "\n",
       "    .dataframe tbody tr th {\n",
       "        vertical-align: top;\n",
       "    }\n",
       "\n",
       "    .dataframe thead th {\n",
       "        text-align: right;\n",
       "    }\n",
       "</style>\n",
       "<table border=\"1\" class=\"dataframe\">\n",
       "  <thead>\n",
       "    <tr style=\"text-align: right;\">\n",
       "      <th></th>\n",
       "      <th>Unnamed: 0</th>\n",
       "      <th>#id</th>\n",
       "      <th>gender</th>\n",
       "      <th>age</th>\n",
       "      <th>country</th>\n",
       "      <th>registered</th>\n",
       "    </tr>\n",
       "  </thead>\n",
       "  <tbody>\n",
       "    <tr>\n",
       "      <th>992</th>\n",
       "      <td>992</td>\n",
       "      <td>user_JSanabria</td>\n",
       "      <td>m</td>\n",
       "      <td>34.0</td>\n",
       "      <td>Colombia</td>\n",
       "      <td>Mar 07, 2023</td>\n",
       "    </tr>\n",
       "  </tbody>\n",
       "</table>\n",
       "</div>"
      ],
      "text/plain": [
       "     Unnamed: 0             #id gender   age   country    registered\n",
       "992         992  user_JSanabria      m  34.0  Colombia  Mar 07, 2023"
      ]
     },
     "execution_count": 27,
     "metadata": {},
     "output_type": "execute_result"
    }
   ],
   "source": [
    "userRow = users[users['#id'] == 'user_JSanabria']\n",
    "userRow"
   ]
  },
  {
   "cell_type": "code",
   "execution_count": 28,
   "id": "148ec0cd-e8a3-4d5c-b898-44a19d809cbc",
   "metadata": {},
   "outputs": [
    {
     "name": "stdout",
     "output_type": "stream",
     "text": [
      "Falso\n"
     ]
    }
   ],
   "source": [
    "if len(userRow) == 0:\n",
    "    print(\"Verdadero\")\n",
    "else:\n",
    "    print(\"Falso\")"
   ]
  },
  {
   "cell_type": "code",
   "execution_count": 29,
   "id": "3a646e45-5247-415d-a112-e37404131663",
   "metadata": {},
   "outputs": [
    {
     "data": {
      "text/plain": [
       "992    m\n",
       "Name: gender, dtype: object"
      ]
     },
     "execution_count": 29,
     "metadata": {},
     "output_type": "execute_result"
    }
   ],
   "source": [
    "userGender = userRow[\"gender\"]\n",
    "userGender"
   ]
  },
  {
   "cell_type": "code",
   "execution_count": 50,
   "id": "3766ce20-e35e-4e3e-9e7c-7038b637f0fa",
   "metadata": {},
   "outputs": [
    {
     "ename": "ParserError",
     "evalue": "Error tokenizing data. C error: Expected 6 fields in line 2120260, saw 8\n",
     "output_type": "error",
     "traceback": [
      "\u001b[1;31m---------------------------------------------------------------------------\u001b[0m",
      "\u001b[1;31mParserError\u001b[0m                               Traceback (most recent call last)",
      "Cell \u001b[1;32mIn[50], line 2\u001b[0m\n\u001b[0;32m      1\u001b[0m url \u001b[38;5;241m=\u001b[39m \u001b[38;5;124m'\u001b[39m\u001b[38;5;124m./appWeb/static/data/userid-timestamp-artid-artname-traid-traname.tsv\u001b[39m\u001b[38;5;124m'\u001b[39m\n\u001b[1;32m----> 2\u001b[0m items \u001b[38;5;241m=\u001b[39m \u001b[43mpd\u001b[49m\u001b[38;5;241;43m.\u001b[39;49m\u001b[43mread_csv\u001b[49m\u001b[43m(\u001b[49m\u001b[43murl\u001b[49m\u001b[43m,\u001b[49m\u001b[43m \u001b[49m\u001b[43msep\u001b[49m\u001b[38;5;241;43m=\u001b[39;49m\u001b[38;5;124;43m\"\u001b[39;49m\u001b[38;5;130;43;01m\\t\u001b[39;49;00m\u001b[38;5;124;43m\"\u001b[39;49m\u001b[43m)\u001b[49m\n\u001b[0;32m      3\u001b[0m items\n",
      "File \u001b[1;32m~\\anaconda3\\envs\\MachineLearning\\lib\\site-packages\\pandas\\util\\_decorators.py:211\u001b[0m, in \u001b[0;36mdeprecate_kwarg.<locals>._deprecate_kwarg.<locals>.wrapper\u001b[1;34m(*args, **kwargs)\u001b[0m\n\u001b[0;32m    209\u001b[0m     \u001b[38;5;28;01melse\u001b[39;00m:\n\u001b[0;32m    210\u001b[0m         kwargs[new_arg_name] \u001b[38;5;241m=\u001b[39m new_arg_value\n\u001b[1;32m--> 211\u001b[0m \u001b[38;5;28;01mreturn\u001b[39;00m func(\u001b[38;5;241m*\u001b[39margs, \u001b[38;5;241m*\u001b[39m\u001b[38;5;241m*\u001b[39mkwargs)\n",
      "File \u001b[1;32m~\\anaconda3\\envs\\MachineLearning\\lib\\site-packages\\pandas\\util\\_decorators.py:331\u001b[0m, in \u001b[0;36mdeprecate_nonkeyword_arguments.<locals>.decorate.<locals>.wrapper\u001b[1;34m(*args, **kwargs)\u001b[0m\n\u001b[0;32m    325\u001b[0m \u001b[38;5;28;01mif\u001b[39;00m \u001b[38;5;28mlen\u001b[39m(args) \u001b[38;5;241m>\u001b[39m num_allow_args:\n\u001b[0;32m    326\u001b[0m     warnings\u001b[38;5;241m.\u001b[39mwarn(\n\u001b[0;32m    327\u001b[0m         msg\u001b[38;5;241m.\u001b[39mformat(arguments\u001b[38;5;241m=\u001b[39m_format_argument_list(allow_args)),\n\u001b[0;32m    328\u001b[0m         \u001b[38;5;167;01mFutureWarning\u001b[39;00m,\n\u001b[0;32m    329\u001b[0m         stacklevel\u001b[38;5;241m=\u001b[39mfind_stack_level(),\n\u001b[0;32m    330\u001b[0m     )\n\u001b[1;32m--> 331\u001b[0m \u001b[38;5;28;01mreturn\u001b[39;00m func(\u001b[38;5;241m*\u001b[39margs, \u001b[38;5;241m*\u001b[39m\u001b[38;5;241m*\u001b[39mkwargs)\n",
      "File \u001b[1;32m~\\anaconda3\\envs\\MachineLearning\\lib\\site-packages\\pandas\\io\\parsers\\readers.py:950\u001b[0m, in \u001b[0;36mread_csv\u001b[1;34m(filepath_or_buffer, sep, delimiter, header, names, index_col, usecols, squeeze, prefix, mangle_dupe_cols, dtype, engine, converters, true_values, false_values, skipinitialspace, skiprows, skipfooter, nrows, na_values, keep_default_na, na_filter, verbose, skip_blank_lines, parse_dates, infer_datetime_format, keep_date_col, date_parser, dayfirst, cache_dates, iterator, chunksize, compression, thousands, decimal, lineterminator, quotechar, quoting, doublequote, escapechar, comment, encoding, encoding_errors, dialect, error_bad_lines, warn_bad_lines, on_bad_lines, delim_whitespace, low_memory, memory_map, float_precision, storage_options)\u001b[0m\n\u001b[0;32m    935\u001b[0m kwds_defaults \u001b[38;5;241m=\u001b[39m _refine_defaults_read(\n\u001b[0;32m    936\u001b[0m     dialect,\n\u001b[0;32m    937\u001b[0m     delimiter,\n\u001b[1;32m   (...)\u001b[0m\n\u001b[0;32m    946\u001b[0m     defaults\u001b[38;5;241m=\u001b[39m{\u001b[38;5;124m\"\u001b[39m\u001b[38;5;124mdelimiter\u001b[39m\u001b[38;5;124m\"\u001b[39m: \u001b[38;5;124m\"\u001b[39m\u001b[38;5;124m,\u001b[39m\u001b[38;5;124m\"\u001b[39m},\n\u001b[0;32m    947\u001b[0m )\n\u001b[0;32m    948\u001b[0m kwds\u001b[38;5;241m.\u001b[39mupdate(kwds_defaults)\n\u001b[1;32m--> 950\u001b[0m \u001b[38;5;28;01mreturn\u001b[39;00m \u001b[43m_read\u001b[49m\u001b[43m(\u001b[49m\u001b[43mfilepath_or_buffer\u001b[49m\u001b[43m,\u001b[49m\u001b[43m \u001b[49m\u001b[43mkwds\u001b[49m\u001b[43m)\u001b[49m\n",
      "File \u001b[1;32m~\\anaconda3\\envs\\MachineLearning\\lib\\site-packages\\pandas\\io\\parsers\\readers.py:611\u001b[0m, in \u001b[0;36m_read\u001b[1;34m(filepath_or_buffer, kwds)\u001b[0m\n\u001b[0;32m    608\u001b[0m     \u001b[38;5;28;01mreturn\u001b[39;00m parser\n\u001b[0;32m    610\u001b[0m \u001b[38;5;28;01mwith\u001b[39;00m parser:\n\u001b[1;32m--> 611\u001b[0m     \u001b[38;5;28;01mreturn\u001b[39;00m \u001b[43mparser\u001b[49m\u001b[38;5;241;43m.\u001b[39;49m\u001b[43mread\u001b[49m\u001b[43m(\u001b[49m\u001b[43mnrows\u001b[49m\u001b[43m)\u001b[49m\n",
      "File \u001b[1;32m~\\anaconda3\\envs\\MachineLearning\\lib\\site-packages\\pandas\\io\\parsers\\readers.py:1778\u001b[0m, in \u001b[0;36mTextFileReader.read\u001b[1;34m(self, nrows)\u001b[0m\n\u001b[0;32m   1771\u001b[0m nrows \u001b[38;5;241m=\u001b[39m validate_integer(\u001b[38;5;124m\"\u001b[39m\u001b[38;5;124mnrows\u001b[39m\u001b[38;5;124m\"\u001b[39m, nrows)\n\u001b[0;32m   1772\u001b[0m \u001b[38;5;28;01mtry\u001b[39;00m:\n\u001b[0;32m   1773\u001b[0m     \u001b[38;5;66;03m# error: \"ParserBase\" has no attribute \"read\"\u001b[39;00m\n\u001b[0;32m   1774\u001b[0m     (\n\u001b[0;32m   1775\u001b[0m         index,\n\u001b[0;32m   1776\u001b[0m         columns,\n\u001b[0;32m   1777\u001b[0m         col_dict,\n\u001b[1;32m-> 1778\u001b[0m     ) \u001b[38;5;241m=\u001b[39m \u001b[38;5;28;43mself\u001b[39;49m\u001b[38;5;241;43m.\u001b[39;49m\u001b[43m_engine\u001b[49m\u001b[38;5;241;43m.\u001b[39;49m\u001b[43mread\u001b[49m\u001b[43m(\u001b[49m\u001b[43m  \u001b[49m\u001b[38;5;66;43;03m# type: ignore[attr-defined]\u001b[39;49;00m\n\u001b[0;32m   1779\u001b[0m \u001b[43m        \u001b[49m\u001b[43mnrows\u001b[49m\n\u001b[0;32m   1780\u001b[0m \u001b[43m    \u001b[49m\u001b[43m)\u001b[49m\n\u001b[0;32m   1781\u001b[0m \u001b[38;5;28;01mexcept\u001b[39;00m \u001b[38;5;167;01mException\u001b[39;00m:\n\u001b[0;32m   1782\u001b[0m     \u001b[38;5;28mself\u001b[39m\u001b[38;5;241m.\u001b[39mclose()\n",
      "File \u001b[1;32m~\\anaconda3\\envs\\MachineLearning\\lib\\site-packages\\pandas\\io\\parsers\\c_parser_wrapper.py:230\u001b[0m, in \u001b[0;36mCParserWrapper.read\u001b[1;34m(self, nrows)\u001b[0m\n\u001b[0;32m    228\u001b[0m \u001b[38;5;28;01mtry\u001b[39;00m:\n\u001b[0;32m    229\u001b[0m     \u001b[38;5;28;01mif\u001b[39;00m \u001b[38;5;28mself\u001b[39m\u001b[38;5;241m.\u001b[39mlow_memory:\n\u001b[1;32m--> 230\u001b[0m         chunks \u001b[38;5;241m=\u001b[39m \u001b[38;5;28;43mself\u001b[39;49m\u001b[38;5;241;43m.\u001b[39;49m\u001b[43m_reader\u001b[49m\u001b[38;5;241;43m.\u001b[39;49m\u001b[43mread_low_memory\u001b[49m\u001b[43m(\u001b[49m\u001b[43mnrows\u001b[49m\u001b[43m)\u001b[49m\n\u001b[0;32m    231\u001b[0m         \u001b[38;5;66;03m# destructive to chunks\u001b[39;00m\n\u001b[0;32m    232\u001b[0m         data \u001b[38;5;241m=\u001b[39m _concatenate_chunks(chunks)\n",
      "File \u001b[1;32m~\\anaconda3\\envs\\MachineLearning\\lib\\site-packages\\pandas\\_libs\\parsers.pyx:808\u001b[0m, in \u001b[0;36mpandas._libs.parsers.TextReader.read_low_memory\u001b[1;34m()\u001b[0m\n",
      "File \u001b[1;32m~\\anaconda3\\envs\\MachineLearning\\lib\\site-packages\\pandas\\_libs\\parsers.pyx:866\u001b[0m, in \u001b[0;36mpandas._libs.parsers.TextReader._read_rows\u001b[1;34m()\u001b[0m\n",
      "File \u001b[1;32m~\\anaconda3\\envs\\MachineLearning\\lib\\site-packages\\pandas\\_libs\\parsers.pyx:852\u001b[0m, in \u001b[0;36mpandas._libs.parsers.TextReader._tokenize_rows\u001b[1;34m()\u001b[0m\n",
      "File \u001b[1;32m~\\anaconda3\\envs\\MachineLearning\\lib\\site-packages\\pandas\\_libs\\parsers.pyx:1973\u001b[0m, in \u001b[0;36mpandas._libs.parsers.raise_parser_error\u001b[1;34m()\u001b[0m\n",
      "\u001b[1;31mParserError\u001b[0m: Error tokenizing data. C error: Expected 6 fields in line 2120260, saw 8\n"
     ]
    }
   ],
   "source": [
    "url = './appWeb/static/data/userid-timestamp-artid-artname-traid-traname.tsv'\n",
    "items = pd.read_csv(url, sep=\"\\t\")\n",
    "items"
   ]
  },
  {
   "cell_type": "code",
   "execution_count": null,
   "id": "0dd9ea69-38f8-4aa2-83d3-da40328df26f",
   "metadata": {},
   "outputs": [],
   "source": []
  }
 ],
 "metadata": {
  "kernelspec": {
   "display_name": "Python 3 (ipykernel)",
   "language": "python",
   "name": "python3"
  },
  "language_info": {
   "codemirror_mode": {
    "name": "ipython",
    "version": 3
   },
   "file_extension": ".py",
   "mimetype": "text/x-python",
   "name": "python",
   "nbconvert_exporter": "python",
   "pygments_lexer": "ipython3",
   "version": "3.9.16"
  }
 },
 "nbformat": 4,
 "nbformat_minor": 5
}
